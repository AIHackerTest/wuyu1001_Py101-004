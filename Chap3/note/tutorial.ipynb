{
 "cells": [
  {
   "cell_type": "markdown",
   "metadata": {},
   "source": [
    "# lambda 函数"
   ]
  },
  {
   "cell_type": "markdown",
   "metadata": {},
   "source": [
    "* Lambda expressions provide a more concise, functionl syntax for writing anonymous methods.  \n",
    " Lambda表达式提供一个更加简练的函数式语法来写匿名方法\n",
    " \n",
    "* In this initial phase, nothing is inferred from arguments that are lambda expressions.  \n",
    "在初始阶段，不能从lambda表达式参数推导出任何东西。\n",
    "\n",
    "* It is based on mathematical logic-based language function, based on the lambda calculus.  \n",
    "它是以数学逻辑为基础的函数式语言，基于Lambda演算\n",
    "\n",
    "* Lambda expressions passed as arguments to the generic method participate in this type inference process.\n",
    "Lambda表达式传递参数到泛型函数，并且参与这次类型推断的过程"
   ]
  },
  {
   "cell_type": "code",
   "execution_count": 1,
   "metadata": {},
   "outputs": [
    {
     "name": "stdout",
     "output_type": "stream",
     "text": [
      "<function make_incrementor.<locals>.<lambda> at 0x110d979d8>\n"
     ]
    }
   ],
   "source": [
    "def make_incrementor(n):\n",
    "    return lambda x: x + n\n",
    "\n",
    "f = make_incrementor(42)\n",
    "print(f)"
   ]
  },
  {
   "cell_type": "code",
   "execution_count": 4,
   "metadata": {},
   "outputs": [
    {
     "data": {
      "text/plain": [
       "42"
      ]
     },
     "execution_count": 4,
     "metadata": {},
     "output_type": "execute_result"
    }
   ],
   "source": [
    "f(0)"
   ]
  },
  {
   "cell_type": "code",
   "execution_count": 5,
   "metadata": {},
   "outputs": [
    {
     "data": {
      "text/plain": [
       "45"
      ]
     },
     "execution_count": 5,
     "metadata": {},
     "output_type": "execute_result"
    }
   ],
   "source": [
    "f(3)"
   ]
  },
  {
   "cell_type": "code",
   "execution_count": 8,
   "metadata": {},
   "outputs": [
    {
     "name": "stdout",
     "output_type": "stream",
     "text": [
      "[(4, 'four'), (1, 'one'), (3, 'three'), (2, 'two')]\n",
      "None\n"
     ]
    }
   ],
   "source": [
    "pairs = [(1, 'one'), (2, 'two'), (3, 'three'), (4, 'four')]\n",
    "pairs.sort(key=lambda pair: pair[1]) #疑问\n",
    "print(pairs)\n",
    "t = pairs.sort()\n",
    "print(t)"
   ]
  },
  {
   "cell_type": "markdown",
   "metadata": {},
   "source": [
    "# sort is method, sorted is function,  the filecmp module defines functions to compare files and directories"
   ]
  },
  {
   "cell_type": "markdown",
   "metadata": {},
   "source": [
    "# 学习pprint module"
   ]
  },
  {
   "cell_type": "code",
   "execution_count": 10,
   "metadata": {},
   "outputs": [
    {
     "name": "stdout",
     "output_type": "stream",
     "text": [
      "{'results': [{'last_update': '2017-09-03T16:35:00+08:00',\n",
      "              'location': {'country': 'CN',\n",
      "                           'id': 'WT3Q0FW9ZJ3Q',\n",
      "                           'name': '武汉',\n",
      "                           'path': '武汉,武汉,湖北,中国',\n",
      "                           'timezone': 'Asia/Shanghai',\n",
      "                           'timezone_offset': '+08:00'},\n",
      "              'now': {'code': '4', 'temperature': '21', 'text': '多云'}}]}\n"
     ]
    }
   ],
   "source": [
    "import pprint as pp # as可以代替模块名\n",
    "import requests\n",
    "\n",
    "def get_weather_info(location):\n",
    "    result = requests.get (\n",
    "        url = 'https://api.seniverse.com/v3/weather/now.json'\n",
    "        , params = {'location':location\n",
    "            , 'key': 'yonctqmdg7pg3fm5'\n",
    "            , 'language': 'zh-Hans'\n",
    "            , 'unit':'c'\n",
    "            }\n",
    "        , timeout = 60\n",
    "        )\n",
    "    return result.json()\n",
    "\n",
    "if __name__ == \"__main__\":\n",
    "    pp.pprint(get_weather_info('wuhan'))\n",
    "\n"
   ]
  },
  {
   "cell_type": "markdown",
   "metadata": {},
   "source": [
    "# 内网web部署知识点：\n",
    "* flask框架基本运用（用一个最小MVP开始）\n",
    "* html网页制作（需要用到什么在去）\n",
    "* flask的Jinja2模板\n",
    "\n"
   ]
  },
  {
   "cell_type": "markdown",
   "metadata": {},
   "source": [
    "## jinja2模板：\n",
    "* 页面模板的定义\n",
    "* 为模板传入变量:{{ var_name }}\n",
    "* 在模板中使用语法：{% for/if/else %}{% endfor %}\n",
    "* 模板继承{% extends=\"index.html\" %}继承了index.html网页，{% block content %}{% endblock %}"
   ]
  },
  {
   "cell_type": "code",
   "execution_count": null,
   "metadata": {
    "collapsed": true
   },
   "outputs": [],
   "source": []
  }
 ],
 "metadata": {
  "kernelspec": {
   "display_name": "Python 3",
   "language": "python",
   "name": "python3"
  },
  "language_info": {
   "codemirror_mode": {
    "name": "ipython",
    "version": 3
   },
   "file_extension": ".py",
   "mimetype": "text/x-python",
   "name": "python",
   "nbconvert_exporter": "python",
   "pygments_lexer": "ipython3",
   "version": "3.6.1"
  }
 },
 "nbformat": 4,
 "nbformat_minor": 2
}
